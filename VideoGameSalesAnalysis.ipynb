{
 "cells": [
  {
   "cell_type": "code",
   "execution_count": 3,
   "metadata": {},
   "outputs": [],
   "source": [
    "import pandas as pd\n",
    "import numpy as np\n",
    "import matplotlib.pyplot as plt\n",
    "import seaborn as sns"
   ]
  },
  {
   "cell_type": "code",
   "execution_count": 4,
   "metadata": {},
   "outputs": [
    {
     "data": {
      "text/html": [
       "<div>\n",
       "<style scoped>\n",
       "    .dataframe tbody tr th:only-of-type {\n",
       "        vertical-align: middle;\n",
       "    }\n",
       "\n",
       "    .dataframe tbody tr th {\n",
       "        vertical-align: top;\n",
       "    }\n",
       "\n",
       "    .dataframe thead th {\n",
       "        text-align: right;\n",
       "    }\n",
       "</style>\n",
       "<table border=\"1\" class=\"dataframe\">\n",
       "  <thead>\n",
       "    <tr style=\"text-align: right;\">\n",
       "      <th></th>\n",
       "      <th>index</th>\n",
       "      <th>Rank</th>\n",
       "      <th>Game Title</th>\n",
       "      <th>Platform</th>\n",
       "      <th>Year</th>\n",
       "      <th>Genre</th>\n",
       "      <th>Publisher</th>\n",
       "      <th>North America</th>\n",
       "      <th>Europe</th>\n",
       "      <th>Japan</th>\n",
       "      <th>Rest of World</th>\n",
       "      <th>Global</th>\n",
       "      <th>Review</th>\n",
       "    </tr>\n",
       "  </thead>\n",
       "  <tbody>\n",
       "    <tr>\n",
       "      <th>0</th>\n",
       "      <td>0</td>\n",
       "      <td>1</td>\n",
       "      <td>Wii Sports</td>\n",
       "      <td>Wii</td>\n",
       "      <td>2006.0</td>\n",
       "      <td>Sports</td>\n",
       "      <td>Nintendo</td>\n",
       "      <td>40.43</td>\n",
       "      <td>28.39</td>\n",
       "      <td>3.77</td>\n",
       "      <td>8.54</td>\n",
       "      <td>81.12</td>\n",
       "      <td>76.28</td>\n",
       "    </tr>\n",
       "    <tr>\n",
       "      <th>1</th>\n",
       "      <td>1</td>\n",
       "      <td>2</td>\n",
       "      <td>Super Mario Bros.</td>\n",
       "      <td>NES</td>\n",
       "      <td>1985.0</td>\n",
       "      <td>Platform</td>\n",
       "      <td>Nintendo</td>\n",
       "      <td>29.08</td>\n",
       "      <td>3.58</td>\n",
       "      <td>6.81</td>\n",
       "      <td>0.77</td>\n",
       "      <td>40.24</td>\n",
       "      <td>91.00</td>\n",
       "    </tr>\n",
       "    <tr>\n",
       "      <th>2</th>\n",
       "      <td>2</td>\n",
       "      <td>3</td>\n",
       "      <td>Mario Kart Wii</td>\n",
       "      <td>Wii</td>\n",
       "      <td>2008.0</td>\n",
       "      <td>Racing</td>\n",
       "      <td>Nintendo</td>\n",
       "      <td>14.50</td>\n",
       "      <td>12.22</td>\n",
       "      <td>3.63</td>\n",
       "      <td>3.21</td>\n",
       "      <td>33.55</td>\n",
       "      <td>82.07</td>\n",
       "    </tr>\n",
       "    <tr>\n",
       "      <th>3</th>\n",
       "      <td>3</td>\n",
       "      <td>4</td>\n",
       "      <td>Wii Sports Resort</td>\n",
       "      <td>Wii</td>\n",
       "      <td>2009.0</td>\n",
       "      <td>Sports</td>\n",
       "      <td>Nintendo</td>\n",
       "      <td>14.82</td>\n",
       "      <td>10.51</td>\n",
       "      <td>3.18</td>\n",
       "      <td>3.01</td>\n",
       "      <td>31.52</td>\n",
       "      <td>82.65</td>\n",
       "    </tr>\n",
       "    <tr>\n",
       "      <th>4</th>\n",
       "      <td>4</td>\n",
       "      <td>5</td>\n",
       "      <td>Tetris</td>\n",
       "      <td>GB</td>\n",
       "      <td>1989.0</td>\n",
       "      <td>Puzzle</td>\n",
       "      <td>Nintendo</td>\n",
       "      <td>23.20</td>\n",
       "      <td>2.26</td>\n",
       "      <td>4.22</td>\n",
       "      <td>0.58</td>\n",
       "      <td>30.26</td>\n",
       "      <td>88.00</td>\n",
       "    </tr>\n",
       "  </tbody>\n",
       "</table>\n",
       "</div>"
      ],
      "text/plain": [
       "   index  Rank         Game Title Platform    Year     Genre Publisher  \\\n",
       "0      0     1         Wii Sports      Wii  2006.0    Sports  Nintendo   \n",
       "1      1     2  Super Mario Bros.      NES  1985.0  Platform  Nintendo   \n",
       "2      2     3     Mario Kart Wii      Wii  2008.0    Racing  Nintendo   \n",
       "3      3     4  Wii Sports Resort      Wii  2009.0    Sports  Nintendo   \n",
       "4      4     5             Tetris       GB  1989.0    Puzzle  Nintendo   \n",
       "\n",
       "   North America  Europe  Japan  Rest of World  Global  Review  \n",
       "0          40.43   28.39   3.77           8.54   81.12   76.28  \n",
       "1          29.08    3.58   6.81           0.77   40.24   91.00  \n",
       "2          14.50   12.22   3.63           3.21   33.55   82.07  \n",
       "3          14.82   10.51   3.18           3.01   31.52   82.65  \n",
       "4          23.20    2.26   4.22           0.58   30.26   88.00  "
      ]
     },
     "execution_count": 4,
     "metadata": {},
     "output_type": "execute_result"
    }
   ],
   "source": [
    "df = pd.read_csv(\"VideoGamesSales.csv\")\n",
    "df.head()"
   ]
  },
  {
   "cell_type": "code",
   "execution_count": 5,
   "metadata": {},
   "outputs": [
    {
     "data": {
      "text/plain": [
       "index             0\n",
       "Rank              0\n",
       "Game Title        0\n",
       "Platform          0\n",
       "Year             29\n",
       "Genre             0\n",
       "Publisher         2\n",
       "North America     0\n",
       "Europe            0\n",
       "Japan             0\n",
       "Rest of World     0\n",
       "Global            0\n",
       "Review            0\n",
       "dtype: int64"
      ]
     },
     "execution_count": 5,
     "metadata": {},
     "output_type": "execute_result"
    }
   ],
   "source": [
    "df.isnull().sum()"
   ]
  },
  {
   "cell_type": "code",
   "execution_count": 7,
   "metadata": {},
   "outputs": [
    {
     "data": {
      "text/plain": [
       "index            0\n",
       "Rank             0\n",
       "Game Title       0\n",
       "Platform         0\n",
       "Year             0\n",
       "Genre            0\n",
       "Publisher        0\n",
       "North America    0\n",
       "Europe           0\n",
       "Japan            0\n",
       "Rest of World    0\n",
       "Global           0\n",
       "Review           0\n",
       "dtype: int64"
      ]
     },
     "execution_count": 7,
     "metadata": {},
     "output_type": "execute_result"
    }
   ],
   "source": [
    "df = df.dropna()\n",
    "df.isnull().sum()"
   ]
  },
  {
   "cell_type": "code",
   "execution_count": 8,
   "metadata": {},
   "outputs": [],
   "source": [
    "import matplotlib as mpl\n"
   ]
  },
  {
   "cell_type": "code",
   "execution_count": 9,
   "metadata": {},
   "outputs": [
    {
     "data": {
      "image/png": "[encoded data removed]",
      "text/plain": [
       "<Figure size 504x504 with 1 Axes>"
      ]
     },
     "metadata": {},
     "output_type": "display_data"
    }
   ],
   "source": [
    "game = df.groupby(\"Genre\")[\"Global\"].count().head(10)\n",
    "custom_colors = mpl.colors.Normalize(vmin=min(game), vmax = max(game))\n",
    "colours = [mpl.cm.PuBu(custom_colors(i)) for i in game]\n",
    "plt.figure(figsize=(7,7))\n",
    "plt.pie(game, labels=game.index, colors=colours)\n",
    "central_circle = plt.Circle((0,0), 0.5, color = \"white\")\n",
    "fig = plt.gcf()\n",
    "fig.gca().add_artist(central_circle)\n",
    "plt.rc('font', size=12)\n",
    "plt.title(\"Top 10 Categories of Games Sold\", fontsize = 20)\n",
    "plt.show()"
   ]
  },
  {
   "cell_type": "code",
   "execution_count": 10,
   "metadata": {},
   "outputs": [
    {
     "data": {
      "image/png": "[encoded data removed]",
      "text/plain": [
       "<Figure size 432x288 with 2 Axes>"
      ]
     },
     "metadata": {
      "needs_background": "light"
     },
     "output_type": "display_data"
    }
   ],
   "source": [
    "df.corr()\n",
    "sns.heatmap(df.corr(), cmap=\"winter_r\")\n",
    "plt.show()"
   ]
  },
  {
   "cell_type": "code",
   "execution_count": 12,
   "metadata": {},
   "outputs": [],
   "source": [
    "X = df[[\"Rank\", \"North America\", \"Europe\", \"Japan\", \"Rest of World\"]]\n",
    "y = df[\"Global\"]"
   ]
  },
  {
   "cell_type": "code",
   "execution_count": 13,
   "metadata": {},
   "outputs": [],
   "source": [
    "from sklearn.model_selection import train_test_split\n",
    "X_train, X_test, y_train, y_test = train_test_split(X, y, test_size= 0.2, random_state= 42)\n"
   ]
  },
  {
   "cell_type": "code",
   "execution_count": 14,
   "metadata": {},
   "outputs": [],
   "source": [
    "from sklearn.linear_model import LinearRegression\n",
    "model = LinearRegression()\n",
    "model.fit(X_train, y_train)\n",
    "predictions = model.predict(X_test)"
   ]
  },
  {
   "cell_type": "code",
   "execution_count": 15,
   "metadata": {},
   "outputs": [
    {
     "data": {
      "text/plain": [
       "array([ 1.33999621,  1.07976249,  1.15952937,  1.7101148 ,  3.64897251,\n",
       "        1.64013457,  1.58997942,  1.13974403,  0.85970975,  1.17974498,\n",
       "        2.71992545,  4.11999666,  2.60011814,  0.89965863,  3.84026452,\n",
       "        1.21991703,  1.87986692,  1.32999218,  0.96966985,  1.01967818,\n",
       "        2.1496291 ,  0.96985445,  1.04972709,  1.01975278,  1.00959296,\n",
       "        1.24968683,  1.75977864,  2.13989655,  1.22983017,  1.49984512,\n",
       "        6.03055019,  5.93938844,  0.90981229,  0.93947804,  1.53988665,\n",
       "        3.08021153,  1.26985591,  0.9396392 ,  1.17991032,  1.39986187,\n",
       "        1.1996194 ,  1.52980785,  1.15964414,  3.02035417,  1.45975646,\n",
       "        1.35984439,  1.34951547,  2.13002707,  1.04974399,  1.55984418,\n",
       "        3.20018923,  1.01965761,  1.38007151,  0.94972064,  2.01942758,\n",
       "        2.38018207,  1.23981485,  1.23969746,  1.66961381,  1.93015629,\n",
       "        1.00995795,  1.70002464,  3.91014114,  1.81999564,  1.14993952,\n",
       "        8.09080879,  2.33985633,  3.31015362,  1.14947172, 13.09977871,\n",
       "        0.91966835,  2.49010563,  2.57016448,  3.62980424,  2.77993097,\n",
       "        1.04979443,  1.13995474,  0.94981351,  1.16947728,  3.94974132,\n",
       "        0.89974638,  1.20970707,  2.44979107,  3.84967913,  2.09983175,\n",
       "        1.23949688,  2.59979244,  0.85965519,  1.37983214,  3.42977861,\n",
       "        1.4500136 ,  3.4398283 ,  0.91986229,  0.83982895,  0.9198546 ,\n",
       "        0.97008771,  1.79986372,  1.43003356,  1.2699285 ,  1.19006399,\n",
       "        1.50994121,  1.68985407,  2.4002564 ,  1.03988955,  1.14970732,\n",
       "        1.33996482,  0.98981923,  3.08005119,  2.67036788,  3.00984308,\n",
       "        1.21985094,  0.96987952,  0.99958316,  1.89991471,  0.85983737,\n",
       "        1.13996451,  2.84008773,  4.35950429,  7.87036684,  2.09972799,\n",
       "        1.15058091,  1.11973063,  1.07979828,  4.0096705 ,  0.98983285,\n",
       "        0.95986132,  0.83977933,  2.78980818,  1.14977738,  5.34001603,\n",
       "        1.02988491,  2.15011573,  1.59982965,  2.0898026 ,  2.16932915,\n",
       "        1.16980333,  4.17986819,  1.06981111,  4.51947579,  3.02985839,\n",
       "        1.07980093,  1.26989168, 15.230361  ,  2.50013056,  8.22997418,\n",
       "        3.54060943,  1.03998506,  3.34058185,  0.94970775,  0.89978489,\n",
       "        1.58033897,  1.56999773,  1.82980832,  2.48954444,  3.2997873 ,\n",
       "        0.85972665,  1.55027975,  1.07977048,  1.31954382,  0.93016411,\n",
       "        4.44976861,  0.93971871,  1.22979654,  1.06966909,  5.78965493,\n",
       "        0.96966329,  1.48986657,  3.07045067,  1.19984592,  2.27091493,\n",
       "        1.53980998,  1.28962424,  0.84969766,  1.90989488,  1.07030228,\n",
       "        4.79048994,  1.33990022,  1.36002627,  0.8796697 ,  3.75954194,\n",
       "        1.17979263,  1.52000574,  1.85016964, 11.9009943 ,  0.90983044,\n",
       "        0.91967537,  3.1400898 ,  5.4902421 ,  0.91964649,  4.96963551,\n",
       "        3.08908823,  1.11970037,  0.92947497,  1.92025756,  9.87061369,\n",
       "        1.91961202,  1.00987348,  2.35005568,  1.8001008 ,  2.66998131,\n",
       "        1.06970371,  1.09951519,  2.5101032 ,  2.48001651,  3.98988084,\n",
       "        3.42087138,  0.8497061 ,  1.26988881,  0.89982104,  0.83979198,\n",
       "        1.28976686,  7.18064638,  8.819103  ,  1.15978144,  0.91985421,\n",
       "        7.60068263,  3.1304329 ,  1.08048595,  4.20981203,  7.88955208,\n",
       "        4.9796413 ,  2.27989677,  1.1899243 ,  0.95972746,  0.98027146,\n",
       "        3.43030428,  2.74983101,  0.88960037,  1.00039529,  0.93973304,\n",
       "        1.31005084, 10.49061212,  1.1797738 ,  2.24021759,  1.56984813,\n",
       "        2.03929292,  1.10948756,  4.1098119 ,  7.46014526,  0.86947895,\n",
       "        0.99978799,  6.31005908,  0.92985807,  1.27971854,  1.31999049,\n",
       "        3.00989107,  0.91967959,  1.25990393,  1.79967765,  1.37989462,\n",
       "        2.56919005,  1.16993736, 12.9990903 ,  1.64002835,  1.23973869,\n",
       "        1.26986336,  2.97981473,  2.26020446,  0.96982005,  2.69984054,\n",
       "        2.79015921,  0.82969409,  1.05990647,  3.50005905,  0.83964237,\n",
       "       10.55042273,  4.89957817,  1.01980664,  0.89958228,  0.86969984,\n",
       "        2.31954807,  2.14027519,  1.08960162,  1.67032404,  0.90971382,\n",
       "        1.55011397,  1.77006767,  1.46973992,  4.53945441,  2.20995244,\n",
       "        1.30981155,  0.96983748,  2.05933175,  1.29972168,  1.03976814,\n",
       "        1.55989136,  1.20042325,  0.99958296,  0.8401324 ,  0.9198    ,\n",
       "        1.03960773,  5.5397238 ,  3.49999099,  1.24978725,  1.24997992,\n",
       "        1.08987768,  0.84965044,  2.86010983,  0.99974313,  4.44982112,\n",
       "        2.7001466 ,  2.94033976,  0.97965121,  1.31988025,  3.66995169,\n",
       "        2.79017369,  8.03096438,  1.079798  ,  1.82007085,  1.34988619,\n",
       "        1.25970051,  1.16994612,  1.10961451,  2.55979791,  1.12970844,\n",
       "        1.00980646,  0.87971713,  2.13984033,  0.8298012 ,  1.07947375,\n",
       "        1.05993076,  1.00984464,  1.1498634 ,  2.72998618,  1.69008784,\n",
       "        2.089555  ,  2.10992123,  1.69966678,  3.7005889 ,  1.65047323,\n",
       "        3.90998009,  1.13976863,  2.08992385,  1.95023955,  0.89971179,\n",
       "        2.55013496,  1.57973174,  1.40008017,  1.26999095,  2.41011128,\n",
       "        7.86032787,  2.11980238,  3.71960379,  9.77970781,  0.93954   ,\n",
       "        2.82033771,  2.17987862,  3.19986114,  0.8898344 ,  2.35985017,\n",
       "        1.99996783,  2.91915335,  1.66998722,  0.9996571 ,  1.00976413,\n",
       "        2.44982065,  1.74991429,  1.26991864,  1.46002011,  0.83972575,\n",
       "        1.94990448,  1.42001588,  4.48074307,  2.31015823,  2.79007565,\n",
       "        1.14977876,  1.20948878,  2.2000393 ,  5.26977398,  1.47993931,\n",
       "        1.75991184,  0.88977849,  3.16991274,  1.6398524 ,  1.01979316,\n",
       "        2.0900274 ])"
      ]
     },
     "execution_count": 15,
     "metadata": {},
     "output_type": "execute_result"
    }
   ],
   "source": [
    "predictions"
   ]
  }
 ],
 "metadata": {
  "kernelspec": {
   "display_name": "pythonProject",
   "language": "python",
   "name": "python3"
  },
  "language_info": {
   "codemirror_mode": {
    "name": "ipython",
    "version": 3
   },
   "file_extension": ".py",
   "mimetype": "text/x-python",
   "name": "python",
   "nbconvert_exporter": "python",
   "pygments_lexer": "ipython3",
   "version": "3.9.12"
  },
  "orig_nbformat": 4,
  "vscode": {
   "interpreter": {
    "hash": "45a60c048f4ccd6c48c495f838e9ad694b36421548fddd91d87e2ee8d4b585bd"
   }
  }
 },
 "nbformat": 4,
 "nbformat_minor": 2
}
